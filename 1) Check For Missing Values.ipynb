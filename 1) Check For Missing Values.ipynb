{
 "cells": [
  {
   "cell_type": "markdown",
   "metadata": {},
   "source": [
    "## Data Exploratory Method :\n",
    "\n",
    "- For the quick overview we can use following methods and attributes of a DataFrame:"
   ]
  },
  {
   "cell_type": "code",
   "execution_count": null,
   "metadata": {},
   "outputs": [],
   "source": [
    "#1\n",
    "df.head() # show first 5 rows\n",
    "\n",
    "#2\n",
    "df.tail() # last 5 rows\n",
    "\n",
    "#3\n",
    "df.columns # list all column names\n",
    "\n",
    "#4\n",
    "df.info() # additional info about dataframe\n",
    "\n",
    "#5\n",
    "df.describe() # statistical description, only for numeric values\n"
   ]
  },
  {
   "cell_type": "markdown",
   "metadata": {},
   "source": [
    "## How To Check For Missing Values In Pandas : "
   ]
  },
  {
   "cell_type": "code",
   "execution_count": null,
   "metadata": {},
   "outputs": [],
   "source": [
    "#1\n",
    "df.isnull().sum() #How many missing data in total \n",
    "\n",
    "#2\n",
    "data['column-name'].isnull().sum() #How many missing data in one columen\n",
    "\n",
    "\n",
    "#3\n",
    "df['column-name'].isnull() #where the is data missing in one columen \n",
    "\n",
    "\n",
    "#4 \n",
    "import seaborn as sns\n",
    "sns.heatmap(df.isnull(),yticklabels=False, annot=True); #visualization For data missing \n"
   ]
  },
  {
   "cell_type": "markdown",
   "metadata": {},
   "source": [
    "-[How to Handle Missing Data](https://towardsdatascience.com/how-to-handle-missing-data-8646b18db0d4)\n",
    "\n",
    "-[How To Check For Missing Values In Pandas](https://towardsdatascience.com/how-to-check-for-missing-values-in-pandas-d2749e45a345)"
   ]
  },
  {
   "cell_type": "code",
   "execution_count": null,
   "metadata": {},
   "outputs": [],
   "source": []
  }
 ],
 "metadata": {
  "kernelspec": {
   "display_name": "Python 3",
   "language": "python",
   "name": "python3"
  },
  "language_info": {
   "codemirror_mode": {
    "name": "ipython",
    "version": 3
   },
   "file_extension": ".py",
   "mimetype": "text/x-python",
   "name": "python",
   "nbconvert_exporter": "python",
   "pygments_lexer": "ipython3",
   "version": "3.7.6"
  }
 },
 "nbformat": 4,
 "nbformat_minor": 4
}
