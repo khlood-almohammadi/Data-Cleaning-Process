{
 "cells": [
  {
   "cell_type": "code",
   "execution_count": null,
   "metadata": {},
   "outputs": [],
   "source": [
    "# 1) Drop columns we won't needs\n",
    "\n",
    "df=df.drop(['name_column', 'name_column', 'name_column'] , axis=1)"
   ]
  },
  {
   "cell_type": "code",
   "execution_count": null,
   "metadata": {},
   "outputs": [],
   "source": [
    "# 2) Drop values duplicates \n",
    "df.drop_duplicates()"
   ]
  },
  {
   "cell_type": "code",
   "execution_count": null,
   "metadata": {},
   "outputs": [],
   "source": [
    "# all 3,4,5 is one step\n",
    "\n",
    "# 3) find how how much values duplicated\n",
    "df['name_column'].duplicated().sum()\n",
    "\n",
    "\n",
    "# 4) select the rows for values duplicated\n",
    "df.loc[df['name_column'].duplicated(keep=False),:] \n",
    "\n",
    "\n",
    "# 5) drop the rows have values duplicated \n",
    "df.drop([ ' the rows have values duplicated ' ],inplace=True)"
   ]
  },
  {
   "cell_type": "code",
   "execution_count": null,
   "metadata": {},
   "outputs": [],
   "source": [
    "# 6) drop one column have values duplicated\n",
    "df.drop_duplicates(subset=\"column_name\")"
   ]
  },
  {
   "cell_type": "code",
   "execution_count": null,
   "metadata": {},
   "outputs": [],
   "source": [
    "# 7) drop more then one column have values duplicated\n",
    "df= df.drop_duplicates(subset=[\"column 1\",\"column 2\"])\n",
    "df"
   ]
  },
  {
   "cell_type": "markdown",
   "metadata": {},
   "source": [
    "[Pandas dataframe.drop_duplicates](https://www.geeksforgeeks.org/python-pandas-dataframe-drop_duplicates/)"
   ]
  }
 ],
 "metadata": {
  "kernelspec": {
   "display_name": "Python 3",
   "language": "python",
   "name": "python3"
  },
  "language_info": {
   "codemirror_mode": {
    "name": "ipython",
    "version": 3
   },
   "file_extension": ".py",
   "mimetype": "text/x-python",
   "name": "python",
   "nbconvert_exporter": "python",
   "pygments_lexer": "ipython3",
   "version": "3.7.6"
  }
 },
 "nbformat": 4,
 "nbformat_minor": 4
}
