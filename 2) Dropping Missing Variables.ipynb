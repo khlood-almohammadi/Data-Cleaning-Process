{
 "cells": [
  {
   "cell_type": "markdown",
   "metadata": {},
   "source": [
    "# -How to Handle Missing Data: "
   ]
  },
  {
   "cell_type": "markdown",
   "metadata": {},
   "source": [
    "## 1) Dropping Missing Variables : "
   ]
  },
  {
   "cell_type": "code",
   "execution_count": null,
   "metadata": {},
   "outputs": [],
   "source": [
    "#1\n",
    "df.dropna(how='any').shape #we can choose to drop the all rows have any\n",
    "\n",
    "#2\n",
    "df.dropna(how='all').shape #we just can drop the rows have all nan \n",
    "\n",
    "#3\n",
    "df.dropna()\n",
    "#or \n",
    "df.dropna(axis=1)\n",
    "# Sometimes, we may just want to drop a column that has some missing values.\n"
   ]
  },
  {
   "cell_type": "markdown",
   "metadata": {},
   "source": [
    "# or :\n",
    "\n",
    "## 2) Replace Missing value : "
   ]
  },
  {
   "cell_type": "code",
   "execution_count": null,
   "metadata": {},
   "outputs": [],
   "source": [
    "#4\n",
    "#replace Missing value in particular column\n",
    "df=df.replace(0,np.NAN)\n",
    "df.dropna(subset=['name_column','name_column','name_column','name_column'], inplace=True)\n",
    "\n",
    "\n",
    "#5\n",
    "#replace Missing value in all column\n",
    "df = df.replace(to_replace='None,NaN', value=' 0,or,any value').dropna()\n",
    "\n",
    "\n",
    "#6\n",
    "#replace Missing value in all one particular column\n",
    "df['name_column'].replace('None', np.nan, inplace = True)\n"
   ]
  },
  {
   "cell_type": "markdown",
   "metadata": {},
   "source": [
    "[Dealing with missing values in pandas](https://medium.com/@kasiarachuta/dealing-with-missing-values-in-pandas-338574c9d5d6)"
   ]
  }
 ],
 "metadata": {
  "kernelspec": {
   "display_name": "Python 3",
   "language": "python",
   "name": "python3"
  },
  "language_info": {
   "codemirror_mode": {
    "name": "ipython",
    "version": 3
   },
   "file_extension": ".py",
   "mimetype": "text/x-python",
   "name": "python",
   "nbconvert_exporter": "python",
   "pygments_lexer": "ipython3",
   "version": "3.7.6"
  }
 },
 "nbformat": 4,
 "nbformat_minor": 4
}
